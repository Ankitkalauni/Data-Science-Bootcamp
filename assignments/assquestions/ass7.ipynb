{
  "cells": [
    {
      "cell_type": "code",
      "execution_count": null,
      "metadata": {
        "id": "3aai2tplEttG"
      },
      "outputs": [],
      "source": [
        "# 1. What is the name of the feature responsible for generating Regex objects?\n",
        "\n",
        "# ans = re.compile()"
      ]
    },
    {
      "cell_type": "code",
      "execution_count": null,
      "metadata": {
        "id": "ifgpdpq6FBZ-"
      },
      "outputs": [],
      "source": [
        "# 2. Why do raw strings often appear in Regex objects?\n",
        "\n",
        "# ans - raw strings are use as they dont read \\ as escape character"
      ]
    },
    {
      "cell_type": "code",
      "execution_count": null,
      "metadata": {
        "id": "JjjbuJvZJMaH"
      },
      "outputs": [],
      "source": [
        "# 3. What is the return value of the search() method?\n",
        "\n",
        "# ans = search function returns match object we can access it using group"
      ]
    },
    {
      "cell_type": "code",
      "execution_count": 22,
      "metadata": {
        "colab": {
          "base_uri": "https://localhost:8080/",
          "height": 36
        },
        "id": "fhWL4xGcJPzX",
        "outputId": "ae390519-250e-479f-d463-41ad58fe173b"
      },
      "outputs": [
        {
          "data": {
            "application/vnd.google.colaboratory.intrinsic+json": {
              "type": "string"
            },
            "text/plain": [
              "'23'"
            ]
          },
          "execution_count": 22,
          "metadata": {},
          "output_type": "execute_result"
        }
      ],
      "source": [
        "import re\n",
        "\n",
        "obj = re.compile(r'[0-9]*')\n",
        "\n",
        "re.search(obj, \"23 45\").group(0)"
      ]
    },
    {
      "cell_type": "code",
      "execution_count": null,
      "metadata": {
        "id": "vRenuvq0JcKh"
      },
      "outputs": [],
      "source": [
        "# 4. From a Match item, how do you get the actual strings that match the pattern?\n",
        "# ans - we can use group method to get the match string "
      ]
    },
    {
      "cell_type": "code",
      "execution_count": null,
      "metadata": {
        "id": "iG1DRJlkLqSw"
      },
      "outputs": [],
      "source": [
        "# In the regex created from r'(\\d\\d\\d)-(\\d\\d\\d-\\d\\d\\d\\d)', what does group 0 cover? Group 1? Group 2?\n",
        "\n",
        "# ans = first group will return whole matching string, group 1 will return the first bracket pattern and group 2\n",
        "# will return the 2 bracket match pattern"
      ]
    },
    {
      "cell_type": "code",
      "execution_count": null,
      "metadata": {
        "id": "__TImtB2Mdwt"
      },
      "outputs": [],
      "source": [
        "# 6. In standard expression syntax, parentheses and intervals have distinct meanings. How can you tell\n",
        "# a regex that you want it to fit real parentheses and periods?\n",
        "\n",
        "# ans - we can use escape squence like \\\\, \\. \\' etc"
      ]
    },
    {
      "cell_type": "code",
      "execution_count": null,
      "metadata": {
        "id": "3AQ9JnExM-Pz"
      },
      "outputs": [],
      "source": [
        "# 7. The findall() method returns a string list or a list of string tuples. What causes it to return one of\n",
        "# the two options?\n",
        "\n",
        "# ans = if there is no group in regex findall() method returns the list of string.\n",
        "# and if there is a group in regex findall() method returns the list of tuple to strings"
      ]
    },
    {
      "cell_type": "code",
      "execution_count": null,
      "metadata": {
        "id": "3dSEJCiJNl_P"
      },
      "outputs": [],
      "source": [
        "# 8. In standard expressions, what does the | character mean?\n",
        "\n",
        "# ans - in standard expressions |(pipe) is mean as or operator"
      ]
    },
    {
      "cell_type": "code",
      "execution_count": 23,
      "metadata": {
        "colab": {
          "base_uri": "https://localhost:8080/"
        },
        "id": "0heW7CoANtsK",
        "outputId": "8cd7ec6a-b645-4107-8ab7-12fdd8d99d0f"
      },
      "outputs": [
        {
          "data": {
            "text/plain": [
              "True"
            ]
          },
          "execution_count": 23,
          "metadata": {},
          "output_type": "execute_result"
        }
      ],
      "source": [
        "True | False"
      ]
    },
    {
      "cell_type": "code",
      "execution_count": null,
      "metadata": {
        "id": "VID095OzNvOk"
      },
      "outputs": [],
      "source": [
        "# 9. In regular expressions, what does the character stand for?\n",
        "\n",
        "# ans - ? stands for 'match zero or one from the bracket' in regex"
      ]
    },
    {
      "cell_type": "code",
      "execution_count": null,
      "metadata": {
        "id": "bKwY3nDtOhFW"
      },
      "outputs": [],
      "source": [
        "# 10.In regular expressions, what is the difference between the + and * characters?\n",
        "\n",
        "# ans - + matches one or more and * matches zero or more"
      ]
    }
  ],
  "metadata": {
    "colab": {
      "collapsed_sections": [],
      "name": "temp_ass7.ipynb",
      "provenance": []
    },
    "kernelspec": {
      "display_name": "Python 3",
      "name": "python3"
    },
    "language_info": {
      "name": "python"
    }
  },
  "nbformat": 4,
  "nbformat_minor": 0
}
