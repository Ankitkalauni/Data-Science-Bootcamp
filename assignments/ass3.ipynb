{
 "cells": [
  {
   "cell_type": "markdown",
   "metadata": {},
   "source": [
    "1. Why are functions advantageous to have in your programs?\n",
    "\n",
    "ans - \n",
    "\n",
    "functions can be helpful for code reuseablity which leads to easy to read or modify codes"
   ]
  },
  {
   "cell_type": "markdown",
   "metadata": {},
   "source": [
    "2. When does the code in a function run: when it's specified or when it's called?\n",
    "\n",
    "ans -\n",
    "\n",
    "when the function is called the function gets executed."
   ]
  },
  {
   "cell_type": "code",
   "execution_count": 3,
   "metadata": {},
   "outputs": [
    {
     "name": "stdout",
     "output_type": "stream",
     "text": [
      "calling fu function...\n",
      "function got called\n"
     ]
    }
   ],
   "source": [
    "def fu():\n",
    "    print('function got called')\n",
    "\n",
    "print('calling fu function...')\n",
    "fu()"
   ]
  },
  {
   "cell_type": "markdown",
   "metadata": {},
   "source": [
    "3. What statement creates a function?\n",
    "\n",
    "def keyword is use to create function in python"
   ]
  },
  {
   "cell_type": "code",
   "execution_count": 4,
   "metadata": {},
   "outputs": [],
   "source": [
    "def fu():\n",
    "    pass"
   ]
  },
  {
   "cell_type": "markdown",
   "metadata": {},
   "source": [
    "4. What is the difference between a function and a function call?\n",
    "\n",
    "ans -\n",
    "\n",
    "A function is a piece of code that can be reuse to get a particular results.\n",
    "function call means invoking or calling that function. function runs only if its called."
   ]
  },
  {
   "cell_type": "code",
   "execution_count": 28,
   "metadata": {},
   "outputs": [
    {
     "name": "stdout",
     "output_type": "stream",
     "text": [
      "lul\n"
     ]
    }
   ],
   "source": [
    "class ankit():\n",
    "    print('lul')"
   ]
  },
  {
   "cell_type": "markdown",
   "metadata": {},
   "source": [
    "    5. How many global scopes are there in a Python program? How many local scopes?\n",
    "\n",
    "ans - there are only one global scope and one local scope.\n",
    "\n"
   ]
  },
  {
   "cell_type": "markdown",
   "metadata": {},
   "source": [
    "6. What happens to variables in a local scope when the function call returns?\n",
    "\n",
    "ans - local variable holds the value when the function call returns"
   ]
  },
  {
   "cell_type": "markdown",
   "metadata": {},
   "source": [
    "7. What is the concept of a return value? Is it possible to have a return value in an expression?\n",
    "\n",
    "ans - return keyword is used to pass out the values from the function to the caller after the execution of the function.\n",
    "yes we can use expressions as a return value."
   ]
  },
  {
   "cell_type": "markdown",
   "metadata": {},
   "source": [
    "8. If a function does not have a return statement, what is the return value of a call to that function?\n",
    "\n",
    "ans -  if the function does not have the return statement, function will return default value (None)."
   ]
  },
  {
   "cell_type": "markdown",
   "metadata": {},
   "source": [
    "9. How do you make a function variable refer to the global variable?\n",
    "\n",
    "ans - we can use the global keyword at the first line of function to refer local variable to the global variable."
   ]
  },
  {
   "cell_type": "markdown",
   "metadata": {},
   "source": [
    "10. What is the data type of None?\n",
    "\n",
    "None is a keyword used to define null value or missing values. None keyword is not eqal to 0."
   ]
  },
  {
   "cell_type": "markdown",
   "metadata": {},
   "source": [
    "11. What does the sentence import areallyourpetsnamederic do?\n",
    "\n",
    "ans - import keyword is use to import modules (libraries). it helps to use one module to other module for reusability."
   ]
  },
  {
   "cell_type": "markdown",
   "metadata": {},
   "source": [
    "12. If you had a bacon() feature in a spam module, what would you call it after importing spam?\n",
    "\n",
    "ans - we can use spam.bacon()"
   ]
  },
  {
   "cell_type": "markdown",
   "metadata": {},
   "source": [
    "13. What can you do to save a programme from crashing if it encounters an error?\n",
    "\n",
    "ans - we can use exception handling. it can be helpfull to catch errors and express and log in a better way."
   ]
  },
  {
   "cell_type": "markdown",
   "metadata": {},
   "source": [
    "14. What is the purpose of the try clause? What is the purpose of the except clause?\n",
    "\n",
    "ans - try keyword helps to check the block of code, and except keyword is use to handle the error by displaying user define messages."
   ]
  }
 ],
 "metadata": {
  "interpreter": {
   "hash": "3c185ae68285ac289e33f7206e1a99ebaa388c7d25154371e8359cf915b73224"
  },
  "kernelspec": {
   "display_name": "mlenv",
   "language": "python",
   "name": "mlenv"
  },
  "language_info": {
   "codemirror_mode": {
    "name": "ipython",
    "version": 3
   },
   "file_extension": ".py",
   "mimetype": "text/x-python",
   "name": "python",
   "nbconvert_exporter": "python",
   "pygments_lexer": "ipython3",
   "version": "3.9.7"
  },
  "orig_nbformat": 4
 },
 "nbformat": 4,
 "nbformat_minor": 2
}
