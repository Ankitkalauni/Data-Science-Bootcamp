{
 "cells": [
  {
   "cell_type": "code",
   "execution_count": null,
   "metadata": {},
   "outputs": [],
   "source": []
  },
  {
   "cell_type": "markdown",
   "metadata": {},
   "source": [
    "1. To what does a relative path refer?\n",
    "\n",
    "ans - Relative paths are relative to the current working directory.\n",
    "\n",
    "2. What does an absolute path start with your operating system?\n",
    "\n",
    "ans - Absolute paths start with the root folder, such as / or C:\\.\n",
    "\n",
    "3. What do the functions os.getcwd() and os.chdir() do?\n",
    "\n",
    "ans - The os.getcwd() function returns the current working directory. The os.chdir() function changes the current working directory.\n",
    "\n",
    "4. What are the . and .. folders?\n",
    "\n",
    "ans - The . folder is the current folder, and .. is the parent folder.\n",
    "\n",
    "5. In C:\\bacon\\eggs\\spam.txt, which part is the dir name, and which part is the base name?\n",
    "\n",
    "ans - C:\\bacon\\eggs is the dir name, while spam.txt is the base name.\n",
    "\n",
    "6. What are the three “mode” arguments that can be passed to the open() function?\n",
    "\n",
    "ans - The string 'r' for read mode, 'w' for write mode, and 'a' for append mode\n",
    "\n",
    "7. What happens if an existing file is opened in write mode?\n",
    "\n",
    "ans - An existing file opened in write mode is erased and completely overwritten.\n",
    "\n",
    "\n",
    "8. How do you tell the difference between read() and readlines()?\n",
    "\n",
    "ans - The read() method returns the file's entire contents as a single string value. The readlines() method returns a list of strings, where each string is a line from the file's contents.\n",
    "\n",
    "9. What data structure does a shelf value resemble?\n",
    "\n",
    "ans - A shelf value resembles a dictionary value; it has keys and values, along with keys() and values() methods that work similarly to the dictionary methods of the same names."
   ]
  },
  {
   "cell_type": "code",
   "execution_count": null,
   "metadata": {},
   "outputs": [],
   "source": []
  }
 ],
 "metadata": {
  "language_info": {
   "name": "python"
  },
  "orig_nbformat": 4
 },
 "nbformat": 4,
 "nbformat_minor": 2
}
