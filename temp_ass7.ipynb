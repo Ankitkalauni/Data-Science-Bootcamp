{
  "cells": [
    {
      "cell_type": "code",
      "execution_count": null,
      "metadata": {
        "colab": {
          "base_uri": "https://localhost:8080/"
        },
        "id": "B2usL1FwEg7Y",
        "outputId": "dc78bc1a-b5ef-42d9-c3d3-43663a6bc5bc"
      },
      "outputs": [
        {
          "name": "stdout",
          "output_type": "stream",
          "text": [
            "\n"
          ]
        }
      ],
      "source": [
        ""
      ]
    },
    {
      "cell_type": "code",
      "execution_count": null,
      "metadata": {
        "id": "3aai2tplEttG"
      },
      "outputs": [],
      "source": [
        "# 1. What is the name of the feature responsible for generating Regex objects?\n",
        "\n",
        "# ans = re.compile()"
      ]
    },
    {
      "cell_type": "code",
      "execution_count": null,
      "metadata": {
        "id": "ifgpdpq6FBZ-"
      },
      "outputs": [],
      "source": [
        "# 2. Why do raw strings often appear in Regex objects?\n",
        "\n",
        "# ans - raw strings are use as they dont read \\ as escape character"
      ]
    },
    {
      "cell_type": "code",
      "execution_count": null,
      "metadata": {
        "id": "JjjbuJvZJMaH"
      },
      "outputs": [],
      "source": [
        "# 3. What is the return value of the search() method?\n",
        "\n",
        "# ans = search function returns match object we can access it using group"
      ]
    },
    {
      "cell_type": "code",
      "execution_count": null,
      "metadata": {
        "colab": {
          "base_uri": "https://localhost:8080/",
          "height": 36
        },
        "id": "fhWL4xGcJPzX",
        "outputId": "ae390519-250e-479f-d463-41ad58fe173b"
      },
      "outputs": [
        {
          "data": {
            "application/vnd.google.colaboratory.intrinsic+json": {
              "type": "string"
            },
            "text/plain": [
              "'23'"
            ]
          },
          "execution_count": 22,
          "metadata": {},
          "output_type": "execute_result"
        }
      ],
      "source": [
        "import re\n",
        "\n",
        "obj = re.compile(r'[0-9]*')\n",
        "\n",
        "re.search(obj, \"23 45\").group(0)"
      ]
    },
    {
      "cell_type": "code",
      "execution_count": null,
      "metadata": {
        "id": "vRenuvq0JcKh"
      },
      "outputs": [],
      "source": [
        "# 4. From a Match item, how do you get the actual strings that match the pattern?\n",
        "# ans - we can use group method to get the match string "
      ]
    },
    {
      "cell_type": "code",
      "execution_count": null,
      "metadata": {
        "id": "iG1DRJlkLqSw"
      },
      "outputs": [],
      "source": [
        "# In the regex created from r'(\\d\\d\\d)-(\\d\\d\\d-\\d\\d\\d\\d)', what does group 0 cover? Group 1? Group 2?\n",
        "\n",
        "# ans = first group will return whole matching string, group 1 will return the first bracket pattern and group 2\n",
        "# will return the 2 bracket match pattern"
      ]
    },
    {
      "cell_type": "code",
      "execution_count": null,
      "metadata": {
        "id": "__TImtB2Mdwt"
      },
      "outputs": [],
      "source": [
        "# 6. In standard expression syntax, parentheses and intervals have distinct meanings. How can you tell\n",
        "# a regex that you want it to fit real parentheses and periods?\n",
        "\n",
        "# ans - we can use escape squence like \\\\, \\. \\' etc"
      ]
    },
    {
      "cell_type": "code",
      "execution_count": null,
      "metadata": {
        "id": "3AQ9JnExM-Pz"
      },
      "outputs": [],
      "source": [
        "# 7. The findall() method returns a string list or a list of string tuples. What causes it to return one of\n",
        "# the two options?\n",
        "\n",
        "# ans = if there is no group in regex findall() method returns the list of string.\n",
        "# and if there is a group in regex findall() method returns the list of tuple to strings"
      ]
    },
    {
      "cell_type": "code",
      "execution_count": null,
      "metadata": {
        "id": "3dSEJCiJNl_P"
      },
      "outputs": [],
      "source": [
        "# 8. In standard expressions, what does the | character mean?\n",
        "\n",
        "# ans - in standard expressions |(pipe) is mean as or operator"
      ]
    },
    {
      "cell_type": "code",
      "execution_count": null,
      "metadata": {
        "colab": {
          "base_uri": "https://localhost:8080/"
        },
        "id": "0heW7CoANtsK",
        "outputId": "8cd7ec6a-b645-4107-8ab7-12fdd8d99d0f"
      },
      "outputs": [
        {
          "data": {
            "text/plain": [
              "True"
            ]
          },
          "execution_count": 23,
          "metadata": {},
          "output_type": "execute_result"
        }
      ],
      "source": [
        "True | False"
      ]
    },
    {
      "cell_type": "code",
      "execution_count": null,
      "metadata": {
        "id": "VID095OzNvOk"
      },
      "outputs": [],
      "source": [
        "# 9. In regular expressions, what does the character stand for?\n",
        "\n",
        "# ans - ? stands for 'match zero or one from the bracket' in regex"
      ]
    },
    {
      "cell_type": "code",
      "execution_count": null,
      "metadata": {
        "id": "bKwY3nDtOhFW"
      },
      "outputs": [],
      "source": [
        "# 10.In regular expressions, what is the difference between the + and * characters?\n",
        "\n",
        "# ans - + matches one or more and * matches zero or more"
      ]
    },
    {
      "cell_type": "code",
      "execution_count": null,
      "metadata": {
        "id": "nPxn--W_DcTn"
      },
      "outputs": [],
      "source": [
        "# 11. What is the difference between {4} and {4,5} in regular expression?\n",
        "# ans - {4} matches exactly four instances and {4, 5} matches instances between 4 to 5"
      ]
    },
    {
      "cell_type": "code",
      "execution_count": null,
      "metadata": {
        "id": "XnysKkRfEKwW"
      },
      "outputs": [],
      "source": [
        "# 12. What do you mean by the \\d, \\w, and \\s shorthand character classes signify in regular\n",
        "# expressions?\n",
        "\n",
        "\n",
        "# ans - \\d is for single digits, \\w for words and \\s for space character"
      ]
    },
    {
      "cell_type": "code",
      "execution_count": null,
      "metadata": {
        "id": "2e5-zp4NEewo"
      },
      "outputs": [],
      "source": [
        "# 13. What do means by \\D, \\W, and \\S shorthand character classes signify in regular expressions?\n",
        "\n",
        "# ans - \\D, \\W and \\S is for single character that does not matches digit, word and white space respectively"
      ]
    },
    {
      "cell_type": "code",
      "execution_count": null,
      "metadata": {
        "id": "qy22V98pEyho"
      },
      "outputs": [],
      "source": [
        "# 14. What is the difference between .*? and .*\n",
        "\n",
        "# ans .*? is a lazy regex pattern where ? is used to match the preceding character as close as possible\n",
        "# and .* is non-lazy regex pattern where * will match the preceding character as much available as possible"
      ]
    },
    {
      "cell_type": "code",
      "execution_count": null,
      "metadata": {
        "id": "9zQI9CpJF_xY"
      },
      "outputs": [],
      "source": [
        "# 15. What is the syntax for matching both numbers and lowercase letters with a character class?\n",
        "# \n",
        "\n",
        "# ans - [0-9a-z]"
      ]
    },
    {
      "cell_type": "code",
      "execution_count": null,
      "metadata": {
        "id": "HkpmmVK1GSso"
      },
      "outputs": [],
      "source": [
        "# 16. What is the procedure for making a normal expression in regax case insensitive?\n",
        "# ans - by passing re.l or re.IGNORECASE as 2nd argument in re.compile() function"
      ]
    },
    {
      "cell_type": "code",
      "execution_count": null,
      "metadata": {
        "colab": {
          "base_uri": "https://localhost:8080/"
        },
        "id": "epDeJqFvGnpI",
        "outputId": "f539578d-bee3-4bbb-b989-57ddc778f61e"
      },
      "outputs": [
        {
          "data": {
            "text/plain": [
              "re.compile(r'[0-9]', re.IGNORECASE|re.UNICODE)"
            ]
          },
          "execution_count": 6,
          "metadata": {},
          "output_type": "execute_result"
        }
      ],
      "source": [
        "import re\n",
        "re.compile(r\"[0-9]\", re.IGNORECASE)"
      ]
    },
    {
      "cell_type": "code",
      "execution_count": null,
      "metadata": {
        "id": "_O6dWVuzGqGZ"
      },
      "outputs": [],
      "source": [
        "# 17. What does the . character normally match? What does it match if re.DOTALL is passed as 2nd\n",
        "# argument in re.compile()?\n",
        "\n",
        "# ans - . normally matches all chracters execpt the new line. but when we pass dotall attribute\n",
        "# as a 2nd parameter in re.compile() it will also matches new line character."
      ]
    },
    {
      "cell_type": "code",
      "execution_count": null,
      "metadata": {
        "colab": {
          "base_uri": "https://localhost:8080/"
        },
        "id": "nYdmqkotHHxp",
        "outputId": "a7a58a2a-f299-4350-cb2c-934f4ca9eb28"
      },
      "outputs": [
        {
          "data": {
            "text/plain": [
              "['a', 'n', 'k', 'i', 't', '.', '\\n', 'k', 'a', 'l', 'a', 'u', 'n', 'i']"
            ]
          },
          "execution_count": 20,
          "metadata": {},
          "output_type": "execute_result"
        }
      ],
      "source": [
        "pat = re.compile(r\".\", re.DOTALL)\n",
        "\n",
        "re.findall(pat, \"ankit.\\nkalauni\")"
      ]
    },
    {
      "cell_type": "code",
      "execution_count": null,
      "metadata": {
        "id": "kARb748EbB2K"
      },
      "outputs": [],
      "source": [
        "# 18. If numReg = re.compile(r\"\\d+\"), what will numRegex.sub(\"X\", \"11 drummers, 10 pipers, five rings, 4\n",
        "# hen\") return?\n",
        "\n",
        "# ans - X drummers, X pipers, five rings, X hens will be returned"
      ]
    },
    {
      "cell_type": "code",
      "execution_count": null,
      "metadata": {
        "colab": {
          "base_uri": "https://localhost:8080/",
          "height": 36
        },
        "id": "wKDLd19_HRJg",
        "outputId": "2f65ecd6-063c-4486-c3bf-5710447847be"
      },
      "outputs": [
        {
          "data": {
            "application/vnd.google.colaboratory.intrinsic+json": {
              "type": "string"
            },
            "text/plain": [
              "'X drummers, X pipers, five rings, X hens'"
            ]
          },
          "execution_count": 3,
          "metadata": {},
          "output_type": "execute_result"
        }
      ],
      "source": [
        "import re\n",
        "numRegex = re.compile(r'\\d+')\n",
        "\n",
        "numRegex.sub('X', '12 drummers, 11 pipers, five rings, 3 hens')"
      ]
    },
    {
      "cell_type": "markdown",
      "metadata": {
        "id": "0_ESj1PNa4WY"
      },
      "source": [
        ""
      ]
    },
    {
      "cell_type": "code",
      "execution_count": null,
      "metadata": {
        "id": "FUzUOoV9axII"
      },
      "outputs": [],
      "source": [
        "# Q19. What does passing re.VERBOSE as the second argument to re.compile() allow you to do?\n",
        "\n",
        "# To ignore whitespace and comments inside the regular expression string."
      ]
    },
    {
      "cell_type": "code",
      "execution_count": null,
      "metadata": {
        "colab": {
          "background_save": true,
          "base_uri": "https://localhost:8080/",
          "height": 36
        },
        "id": "cISRWUiWbhcL",
        "outputId": "c9a31a42-64a1-403c-c3b0-805cfd543748"
      },
      "outputs": [
        {
          "data": {
            "application/vnd.google.colaboratory.intrinsic+json": {
              "type": "string"
            },
            "text/plain": [
              "'X drummers, X pipers, five rings, X hens'"
            ]
          },
          "execution_count": 4,
          "metadata": {},
          "output_type": "execute_result"
        }
      ],
      "source": [
        "numRegex = re.compile(r'\\d+', re.VERBOSE)\n",
        "\n",
        "numRegex.sub('X', '12 drummers, 11 pipers, five rings, 3 hens')"
      ]
    },
    {
      "cell_type": "code",
      "execution_count": null,
      "metadata": {
        "id": "nGmeeMbsbmQu"
      },
      "outputs": [],
      "source": [
        "# Q20. How would you write a regex that matches a number with commas for every three digits? It must match the following:\n",
        "\n",
        "# '42'\n",
        "\n",
        "# '1,234'\n",
        "\n",
        "# '6,368,745'\n",
        "\n",
        "# but not the following:\n",
        "\n",
        "# '12,34,567' (which has only two digits between the commas)\n",
        "\n",
        "# '1234' (which lacks commas)\n",
        "\n",
        "# ans - numCommas = re.compile(r'(^\\d{1,3})(,\\d{3})*$') numCommas.search('12,34,567').group()"
      ]
    },
    {
      "cell_type": "code",
      "source": [
        "# Q21. How would you write a regex that matches the full name of someone whose last name is Nakamoto? You can assume that the first name that comes before it will always be one word that begins with a capital letter. The regex must match the following:\n",
        "\n",
        "# 'Satoshi Nakamoto'\n",
        "\n",
        "# 'Alice Nakamoto'\n",
        "\n",
        "# 'Robocop Nakamoto'\n",
        "\n",
        "# but not the following:\n",
        "\n",
        "# 'satoshi Nakamoto' (where the first name is not capitalized)\n",
        "\n",
        "# 'Mr. Nakamoto' (where the preceding word has a nonletter character)\n",
        "\n",
        "# 'Nakamoto' (which has no first name)\n",
        "\n",
        "# 'Satoshi nakamoto' (where Nakamoto is not capitalized)\n",
        "\n",
        "# fullName = re.compile(r'[A-Z]\\w [A-Z]\\w')\n",
        "# mo = fullName.findall('Satoshi Nakamoto, satoshi Nakamoto, Alice Nakamoto, Nakamoto, Satoshi nakamoto, Robocop Nakamoto')\n",
        "# mo.group()"
      ],
      "metadata": {
        "id": "Rb7SprvYcRMi"
      },
      "execution_count": null,
      "outputs": []
    },
    {
      "cell_type": "code",
      "source": [
        "# Q22. How would you write a regex that matches a sentence where the first word is either Alice, Bob, or Carol; the second word is either eats, pets, or throws; the third word is apples, cats, or baseballs; and the sentence ends with a period? This regex should be case-insensitive. It must match the following:\n",
        "\n",
        "# 'Alice eats apples.'\n",
        "\n",
        "# 'Bob pets cats.'\n",
        "\n",
        "# 'Carol throws baseballs.'\n",
        "\n",
        "# 'Alice throws Apples.'\n",
        "\n",
        "# 'BOB EATS CATS.'\n",
        "\n",
        "# but not the following:\n",
        "\n",
        "# 'Robocop eats apples.'\n",
        "\n",
        "# 'ALICE THROWS FOOTBALLS.'\n",
        "\n",
        "# 'Carol eats 7 cats.'\n",
        "\n",
        "# senRegex = re.compile(r'(Alice|Bob|Carol)\\s(eats|pets|throws)\\s(apples|cats|baseballs).', re.I|re.DOTALL)\n",
        "\n",
        "# senRegex.findall('''Alice eats apples.'\n",
        "\n",
        "# 'Bob pets cats.'\n",
        "\n",
        "# 'Carol throws baseballs.'\n",
        "\n",
        "# 'Alice throws Apples.'\n",
        "\n",
        "# 'BOB EATS CATS.'\n",
        "\n",
        "# but not the following:\n",
        "\n",
        "# 'Robocop eats apples.'\n",
        "\n",
        "# 'ALICE THROWS FOOTBALLS.'\n",
        "\n",
        "# 'Carol eats 7 cats.''')\n",
        "\n",
        "# Test result: [('Alice', 'eats', 'apples'), ('Bob', 'pets', 'cats'), ('Carol', 'throws', 'baseballs'), ('Alice', 'throws', 'Apples'), ('BOB', 'EATS', 'CATS')]"
      ],
      "metadata": {
        "id": "5dRunSjxcd8E"
      },
      "execution_count": null,
      "outputs": []
    }
  ],
  "metadata": {
    "colab": {
      "collapsed_sections": [],
      "name": "temp_ass7.ipynb",
      "provenance": []
    },
    "kernelspec": {
      "display_name": "Python 3",
      "name": "python3"
    },
    "language_info": {
      "name": "python"
    }
  },
  "nbformat": 4,
  "nbformat_minor": 0
}